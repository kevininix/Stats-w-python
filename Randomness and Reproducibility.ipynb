{
 "cells": [
  {
   "cell_type": "code",
   "execution_count": null,
   "id": "17705da7",
   "metadata": {},
   "outputs": [],
   "source": [
    "import random"
   ]
  },
  {
   "cell_type": "code",
   "execution_count": 12,
   "id": "a2d693ad",
   "metadata": {},
   "outputs": [
    {
     "data": {
      "text/plain": [
       "0.9664535356921388"
      ]
     },
     "execution_count": 12,
     "metadata": {},
     "output_type": "execute_result"
    }
   ],
   "source": [
    "random.seed(1234)\n",
    "\n",
    "random.random()"
   ]
  },
  {
   "cell_type": "code",
   "execution_count": 13,
   "id": "957812d8",
   "metadata": {},
   "outputs": [
    {
     "data": {
      "text/plain": [
       "0.9664535356921388"
      ]
     },
     "execution_count": 13,
     "metadata": {},
     "output_type": "execute_result"
    }
   ],
   "source": [
    "random.seed(1234)\n",
    "\n",
    "random.random()"
   ]
  },
  {
   "cell_type": "markdown",
   "id": "d9437f3e",
   "metadata": {},
   "source": [
    " ## Uniform distribution"
   ]
  },
  {
   "cell_type": "code",
   "execution_count": 11,
   "id": "266b7b5c",
   "metadata": {},
   "outputs": [
    {
     "data": {
      "text/plain": [
       "9.929356256117124"
      ]
     },
     "execution_count": 11,
     "metadata": {},
     "output_type": "execute_result"
    }
   ],
   "source": [
    "random.uniform(0,10) #All numbers on the range have an equal probability of being selected"
   ]
  },
  {
   "cell_type": "code",
   "execution_count": null,
   "id": "c3ab1d16",
   "metadata": {},
   "outputs": [],
   "source": [
    "unifNumbers = [random.uniform(0,1) for _ in range(1000)] #Create a list of 1k numbers between 0 and 1"
   ]
  },
  {
   "cell_type": "markdown",
   "id": "1bdf897f",
   "metadata": {},
   "source": [
    "## Normal distribution"
   ]
  },
  {
   "cell_type": "code",
   "execution_count": 14,
   "id": "4e69afa3",
   "metadata": {},
   "outputs": [
    {
     "data": {
      "text/plain": [
       "-0.10244231550508444"
      ]
     },
     "execution_count": 14,
     "metadata": {},
     "output_type": "execute_result"
    }
   ],
   "source": [
    "#The mean (mu) and the standard deviation (sigma) need to be specified to use normal\n",
    "mu = 0  \n",
    "sigma = 1\n",
    "\n",
    "random.normalvariate(mu, sigma)"
   ]
  },
  {
   "cell_type": "code",
   "execution_count": 19,
   "id": "c49329fe",
   "metadata": {},
   "outputs": [
    {
     "data": {
      "text/plain": [
       "3.523913883481894"
      ]
     },
     "execution_count": 19,
     "metadata": {},
     "output_type": "execute_result"
    }
   ],
   "source": [
    "mu = 5\n",
    "sigma = 2\n",
    "\n",
    "random.normalvariate(mu,sigma)"
   ]
  },
  {
   "cell_type": "code",
   "execution_count": 20,
   "id": "04061591",
   "metadata": {},
   "outputs": [],
   "source": [
    "#As with uniform, we can also create a list\n",
    "mu = 0\n",
    "sigma = 1\n",
    "\n",
    "normNumbers = [random.normalvariate(mu, sigma) for _ in range(1000)]"
   ]
  },
  {
   "cell_type": "markdown",
   "id": "d95ff863",
   "metadata": {},
   "source": [
    "## Random sampling from a population"
   ]
  },
  {
   "cell_type": "code",
   "execution_count": 21,
   "id": "2a076ad2",
   "metadata": {},
   "outputs": [],
   "source": [
    "import random\n",
    "import numpy as np"
   ]
  },
  {
   "cell_type": "code",
   "execution_count": 22,
   "id": "ca588eae",
   "metadata": {},
   "outputs": [],
   "source": [
    "mu = 0\n",
    "sigma = 1\n",
    "\n",
    "population = [random.normalvariate(mu, sigma) for _ in range(10000)]"
   ]
  },
  {
   "cell_type": "code",
   "execution_count": 25,
   "id": "aee2e6ba",
   "metadata": {},
   "outputs": [],
   "source": [
    "sampleA = random.sample(population, 500)\n",
    "sampleB = random.sample(population, 500)"
   ]
  },
  {
   "cell_type": "code",
   "execution_count": 29,
   "id": "382282d1",
   "metadata": {},
   "outputs": [
    {
     "name": "stdout",
     "output_type": "stream",
     "text": [
      "0.00448804207140314\n",
      "1.0175471263893543\n"
     ]
    }
   ],
   "source": [
    "print(np.mean(sampleA))\n",
    "\n",
    "print(np.std(sampleA))"
   ]
  },
  {
   "cell_type": "code",
   "execution_count": 31,
   "id": "df6819d9",
   "metadata": {},
   "outputs": [
    {
     "name": "stdout",
     "output_type": "stream",
     "text": [
      "-0.027632401131765\n",
      "1.0095477581196424\n"
     ]
    }
   ],
   "source": [
    "print(np.mean(sampleB))\n",
    "\n",
    "print(np.std(sampleB))"
   ]
  },
  {
   "cell_type": "code",
   "execution_count": 38,
   "id": "44b16efa",
   "metadata": {},
   "outputs": [
    {
     "name": "stdout",
     "output_type": "stream",
     "text": [
      "-0.0001469688956022048\n"
     ]
    }
   ],
   "source": [
    "means = [np.mean(random.sample(population, 1000)) for _ in range(100)] #create a 100 samples with 1k units each\n",
    "\n",
    "print(np.mean(means))"
   ]
  },
  {
   "cell_type": "code",
   "execution_count": 40,
   "id": "076fa633",
   "metadata": {},
   "outputs": [
    {
     "data": {
      "text/plain": [
       "0.9897515083289781"
      ]
     },
     "execution_count": 40,
     "metadata": {},
     "output_type": "execute_result"
    }
   ],
   "source": [
    "stds = [np.std(random.sample(population, 1000)) for _ in range(100)]\n",
    "\n",
    "np.mean(stds)"
   ]
  },
  {
   "cell_type": "code",
   "execution_count": 42,
   "id": "dad7b5d2",
   "metadata": {},
   "outputs": [],
   "source": [
    "import warnings\n",
    "warnings.filterwarnings('ignore')\n",
    "import matplotlib.pyplot as plt\n",
    "import pandas as pd\n",
    "import seaborn as sns"
   ]
  },
  {
   "cell_type": "code",
   "execution_count": 44,
   "id": "99447f3e",
   "metadata": {},
   "outputs": [],
   "source": [
    "random.seed(1738)"
   ]
  },
  {
   "cell_type": "code",
   "execution_count": 45,
   "id": "f45f83a6",
   "metadata": {},
   "outputs": [],
   "source": [
    "mu = 7\n",
    "sigma = 1.7\n",
    "\n",
    "observations = [random.normalvariate(mu, sigma) for _ in range(100000)]"
   ]
  },
  {
   "cell_type": "code",
   "execution_count": 54,
   "id": "5e2bea31",
   "metadata": {},
   "outputs": [
    {
     "data": {
      "image/png": "[encoded data removed]",
      "text/plain": [
       "<Figure size 432x288 with 1 Axes>"
      ]
     },
     "metadata": {
      "needs_background": "light"
     },
     "output_type": "display_data"
    }
   ],
   "source": [
    "sns.distplot(observations).set(title = 'Distribution of observations')\n",
    "plt.axvline(np.mean(observations) + np.std(observations), color = 'green')\n",
    "plt.axvline(np.mean(observations) - np.std(observations), color = 'green')\n",
    "\n",
    "plt.axvline(np.mean(observations) + 2*(np.std(observations)), color = 'yellow')\n",
    "plt.axvline(np.mean(observations) - 2*(np.std(observations)), color = 'yellow')\n",
    "\n",
    "\n",
    "plt.show()"
   ]
  },
  {
   "cell_type": "code",
   "execution_count": 57,
   "id": "99681ddf",
   "metadata": {},
   "outputs": [
    {
     "data": {
      "text/plain": [
       "count    100000.000000\n",
       "mean          7.000626\n",
       "std           1.693249\n",
       "min          -0.754203\n",
       "25%           5.865611\n",
       "50%           7.003080\n",
       "75%           8.144851\n",
       "max          14.595650\n",
       "dtype: float64"
      ]
     },
     "execution_count": 57,
     "metadata": {},
     "output_type": "execute_result"
    }
   ],
   "source": [
    "pd.Series(observations).describe()"
   ]
  },
  {
   "cell_type": "code",
   "execution_count": 58,
   "id": "a9158ef2",
   "metadata": {},
   "outputs": [],
   "source": [
    "sampleA = random.sample(observations, 100)\n",
    "sampleB = random.sample(observations, 100)\n",
    "sampleC = random.sample(observations, 100)"
   ]
  },
  {
   "cell_type": "code",
   "execution_count": 61,
   "id": "4509e8e0",
   "metadata": {},
   "outputs": [
    {
     "data": {
      "image/png": "[encoded data removed]",
      "text/plain": [
       "<Figure size 432x288 with 1 Axes>"
      ]
     },
     "metadata": {
      "needs_background": "light"
     },
     "output_type": "display_data"
    }
   ],
   "source": [
    "fig, ax = plt.subplots()\n",
    "\n",
    "sns.distplot(sampleA, ax = ax)\n",
    "sns.distplot(sampleB, ax = ax)\n",
    "sns.distplot(sampleC, ax = ax)\n",
    "\n",
    "plt.show()"
   ]
  },
  {
   "cell_type": "code",
   "execution_count": 64,
   "id": "ce9e435d",
   "metadata": {},
   "outputs": [],
   "source": [
    "from statsmodels.distributions.empirical_distribution import ECDF"
   ]
  },
  {
   "cell_type": "code",
   "execution_count": 72,
   "id": "89ed7ba9",
   "metadata": {},
   "outputs": [
    {
     "data": {
      "text/plain": [
       "<matplotlib.lines.Line2D at 0x175ef01dbb0>"
      ]
     },
     "execution_count": 72,
     "metadata": {},
     "output_type": "execute_result"
    },
    {
     "data": {
      "image/png": "[encoded data removed]",
      "text/plain": [
       "<Figure size 432x288 with 1 Axes>"
      ]
     },
     "metadata": {
      "needs_background": "light"
     },
     "output_type": "display_data"
    }
   ],
   "source": [
    "ecdf = ECDF(observations)\n",
    "\n",
    "plt.plot(ecdf.x, ecdf.y)\n",
    "plt.axhline(y = 0.025, color ='y', linestyle = '-')\n",
    "plt.axvline(x = np.mean(observations) - 2*(np.std(observations)), color ='y')\n",
    "\n",
    "plt.axhline(y = 0.975, color ='g', linestyle = '-')\n",
    "plt.axvline(x = np.mean(observations) + 2*(np.std(observations)), color ='g', linestyle = '-')"
   ]
  },
  {
   "cell_type": "code",
   "execution_count": null,
   "id": "bc19ad94",
   "metadata": {},
   "outputs": [],
   "source": []
  }
 ],
 "metadata": {
  "kernelspec": {
   "display_name": "Python 3 (ipykernel)",
   "language": "python",
   "name": "python3"
  },
  "language_info": {
   "codemirror_mode": {
    "name": "ipython",
    "version": 3
   },
   "file_extension": ".py",
   "mimetype": "text/x-python",
   "name": "python",
   "nbconvert_exporter": "python",
   "pygments_lexer": "ipython3",
   "version": "3.9.7"
  }
 },
 "nbformat": 4,
 "nbformat_minor": 5
}
