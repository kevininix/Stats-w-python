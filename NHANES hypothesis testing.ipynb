{
 "cells": [
  {
   "cell_type": "code",
   "execution_count": 2,
   "id": "dbbdece8",
   "metadata": {},
   "outputs": [],
   "source": [
    "import numpy as np\n",
    "import pandas as pd\n",
    "import statsmodels.api as sm\n",
    "import scipy.stats.distributions as dist\n",
    "import matplotlib as plt"
   ]
  },
  {
   "cell_type": "code",
   "execution_count": 17,
   "id": "88189baf",
   "metadata": {},
   "outputs": [],
   "source": [
    "da = pd.read_csv(\"nhanes_2015_2016.csv\")\n",
    "\n",
    "da[\"SMQ020x\"] = da.SMQ020.replace({1: \"Yes\", 2: \"No\", 7: np.nan, 9: np.nan})\n",
    "da[\"RIAGENDRx\"] = da.RIAGENDR.replace({1: \"Male\", 2: \"Female\"})"
   ]
  },
  {
   "cell_type": "code",
   "execution_count": 5,
   "id": "69ffc0b6",
   "metadata": {},
   "outputs": [
    {
     "name": "stdout",
     "output_type": "stream",
     "text": [
      "0.7823563854332805 0.4340051581348052\n"
     ]
    }
   ],
   "source": [
    "#Hypothesis Tests for One Proportion\n",
    "\n",
    "#Is the % of lifetime smokers in the US != 40%\n",
    "\n",
    "x = da.SMQ020x.dropna() == \"Yes\"\n",
    "p = x.mean()\n",
    "se = np.sqrt(.4 * (1 - .4)/ len(x))\n",
    "test_stat = (p - 0.4) / se\n",
    "\n",
    "pvalue = 2 * dist.norm.cdf(-np.abs(test_stat))\n",
    "print(test_stat, pvalue)"
   ]
  },
  {
   "cell_type": "code",
   "execution_count": 13,
   "id": "6ac496e8",
   "metadata": {},
   "outputs": [
    {
     "name": "stdout",
     "output_type": "stream",
     "text": [
      "(0.7807518954896244, 0.43494843171868214)\n",
      "(0.7823563854332805, 0.4340051581348052)\n",
      "0.4340360854410036\n"
     ]
    },
    {
     "name": "stderr",
     "output_type": "stream",
     "text": [
      "C:\\Users\\kevin\\anaconda3\\lib\\site-packages\\scipy\\stats\\_discrete_distns.py:67: RuntimeWarning: divide by zero encountered in _binom_pdf\n",
      "  return _boost._binom_pdf(x, n, p)\n"
     ]
    }
   ],
   "source": [
    "#Same thing but with stats models\n",
    "\n",
    "#Normal aprox with estimated proportion in SE\n",
    "print(sm.stats.proportions_ztest(x.sum(), len(x), 0.4))\n",
    "#Normal aprox with null proportion in SE\n",
    "print(sm.stats.proportions_ztest(x.sum(), len(x), 0.4, prop_var = 0.4))\n",
    "#Exact binomial p-value\n",
    "print(sm.stats.binom_test(x.sum(), len(x), 0.4))"
   ]
  },
  {
   "cell_type": "code",
   "execution_count": 20,
   "id": "233d9f59",
   "metadata": {},
   "outputs": [
    {
     "name": "stdout",
     "output_type": "stream",
     "text": [
      "              Smoke    N\n",
      "RIAGENDRx               \n",
      "Female     0.238971  272\n",
      "Male       0.341270  252\n",
      "\n",
      "\n",
      "-2.5833303066279414 0.009785159057508375\n"
     ]
    }
   ],
   "source": [
    "#Hypothesis Tests for Two Proportions\n",
    "\n",
    "#Are lifetime smoking rates between of US females and males age 20-25 significantly different?\n",
    "\n",
    "#Drop missing values\n",
    "dx = da[[\"SMQ020x\", \"RIDAGEYR\", \"RIAGENDRx\"]].dropna()\n",
    "#restrict age to 20-25\n",
    "dx = dx.loc[(dx.RIDAGEYR >= 20) & (dx.RIDAGEYR <= 25), :]\n",
    "\n",
    "#Summarize data by calculating proprtion of yeses and sample size\n",
    "p = dx.groupby(\"RIAGENDRx\")[\"SMQ020x\"].agg([lambda z: np.mean(z == \"Yes\"), \"size\"])\n",
    "p.columns = [\"Smoke\", \"N\"]\n",
    "print(p)\n",
    "\n",
    "print('\\n')\n",
    "\n",
    "#Pooled rate of yeses and SE of estimated difference of proportions\n",
    "p_comb = (dx.SMQ020x == \"Yes\").mean()\n",
    "va = p_comb * (1 - p_comb)\n",
    "se = np.sqrt(va * (1 / p.N.Female + 1 / p.N.Male))\n",
    "\n",
    "#Test statistic and p-value\n",
    "test_stat = (p.Smoke.Female - p.Smoke.Male) / se\n",
    "p_value = 2 * dist.norm.cdf(-np.abs(test_stat))\n",
    "print(test_stat, p_value)"
   ]
  },
  {
   "cell_type": "code",
   "execution_count": 21,
   "id": "2deda1ef",
   "metadata": {},
   "outputs": [
    {
     "data": {
      "text/plain": [
       "(-2.5949731446269344, 0.00972590232121254, 522.0)"
      ]
     },
     "execution_count": 21,
     "metadata": {},
     "output_type": "execute_result"
    }
   ],
   "source": [
    "#Same thing but with stats models\n",
    "dx_females = dx.loc[dx.RIAGENDRx == \"Female\", \"SMQ020x\"].replace({\"Yes\": 1, \"No\": 0})\n",
    "dx_males = dx.loc[dx.RIAGENDRx == \"Male\", \"SMQ020x\"].replace({\"Yes\": 1, \"No\": 0})\n",
    "\n",
    "sm.stats.ttest_ind(dx_females, dx_males)"
   ]
  },
  {
   "cell_type": "code",
   "execution_count": 33,
   "id": "8c63839d",
   "metadata": {},
   "outputs": [
    {
     "name": "stdout",
     "output_type": "stream",
     "text": [
      "125.86698337292161\n"
     ]
    },
    {
     "data": {
      "text/plain": [
       "(7.469764137102597, 8.033869113167905e-14)"
      ]
     },
     "execution_count": 33,
     "metadata": {},
     "output_type": "execute_result"
    }
   ],
   "source": [
    "#Is the mean of the systollic blood pressure for males age 40-50 !=120?\n",
    "\n",
    "#Isolate data\n",
    "dx = da[['BPXSY1', 'RIDAGEYR', 'RIAGENDRx']].dropna()\n",
    "dx = dx.loc[(dx.RIDAGEYR >= 40) & (dx.RIDAGEYR <= 50)  & (dx.RIAGENDRx == 'Male'), :]\n",
    "\n",
    "#Mean of the systollic blood pressure\n",
    "print(dx.BPXSY1.mean())\n",
    "\n",
    "#Test statistic and p-value\n",
    "sm.stats.ztest(dx.BPXSY1, value = 120)"
   ]
  },
  {
   "cell_type": "code",
   "execution_count": 38,
   "id": "d5251133",
   "metadata": {},
   "outputs": [
    {
     "name": "stdout",
     "output_type": "stream",
     "text": [
      "127.92561983471074 129.23829787234044\n",
      "(-1.105435895556249, 0.2689707570859362)\n",
      "(-1.105435895556249, 0.26925004137768577, 952.0)\n"
     ]
    }
   ],
   "source": [
    "#Compare the mean of males and females age 50-60, is there a significant difference?\n",
    "\n",
    "#Isolate data\n",
    "dx = da[['BPXSY1', 'RIDAGEYR', 'RIAGENDRx']].dropna()\n",
    "dx = dx.loc[(dx.RIDAGEYR >= 50) & (dx.RIDAGEYR <= 60), :]\n",
    "bpx_female = dx.loc[dx.RIAGENDRx == 'Female', 'BPXSY1']\n",
    "bpx_male = dx.loc[dx.RIAGENDRx == 'Male', 'BPXSY1']\n",
    "\n",
    "#Means\n",
    "print(bpx_female.mean(), bpx_male.mean())\n",
    "#Test statistic and p-value\n",
    "print(sm.stats.ztest(bpx_female, bpx_male))\n",
    "##Test statistic, p-value and degrees of freedom\n",
    "print(sm.stats.ttest_ind(bpx_female, bpx_male))\n",
    "\n"
   ]
  },
  {
   "cell_type": "code",
   "execution_count": 39,
   "id": "b046173f",
   "metadata": {},
   "outputs": [
    {
     "data": {
      "text/html": [
       "<div>\n",
       "<style scoped>\n",
       "    .dataframe tbody tr th:only-of-type {\n",
       "        vertical-align: middle;\n",
       "    }\n",
       "\n",
       "    .dataframe tbody tr th {\n",
       "        vertical-align: top;\n",
       "    }\n",
       "\n",
       "    .dataframe thead th {\n",
       "        text-align: right;\n",
       "    }\n",
       "</style>\n",
       "<table border=\"1\" class=\"dataframe\">\n",
       "  <thead>\n",
       "    <tr style=\"text-align: right;\">\n",
       "      <th>RIAGENDRx</th>\n",
       "      <th>Female</th>\n",
       "      <th>Male</th>\n",
       "    </tr>\n",
       "    <tr>\n",
       "      <th>agegrp</th>\n",
       "      <th></th>\n",
       "      <th></th>\n",
       "    </tr>\n",
       "  </thead>\n",
       "  <tbody>\n",
       "    <tr>\n",
       "      <th>(18, 30]</th>\n",
       "      <td>7.745893</td>\n",
       "      <td>6.649440</td>\n",
       "    </tr>\n",
       "    <tr>\n",
       "      <th>(30, 40]</th>\n",
       "      <td>8.315608</td>\n",
       "      <td>6.622412</td>\n",
       "    </tr>\n",
       "    <tr>\n",
       "      <th>(40, 50]</th>\n",
       "      <td>8.076195</td>\n",
       "      <td>6.407076</td>\n",
       "    </tr>\n",
       "    <tr>\n",
       "      <th>(50, 60]</th>\n",
       "      <td>7.575848</td>\n",
       "      <td>5.914373</td>\n",
       "    </tr>\n",
       "    <tr>\n",
       "      <th>(60, 70]</th>\n",
       "      <td>7.604514</td>\n",
       "      <td>5.933307</td>\n",
       "    </tr>\n",
       "    <tr>\n",
       "      <th>(70, 80]</th>\n",
       "      <td>6.284968</td>\n",
       "      <td>4.974855</td>\n",
       "    </tr>\n",
       "  </tbody>\n",
       "</table>\n",
       "</div>"
      ],
      "text/plain": [
       "RIAGENDRx    Female      Male\n",
       "agegrp                       \n",
       "(18, 30]   7.745893  6.649440\n",
       "(30, 40]   8.315608  6.622412\n",
       "(40, 50]   8.076195  6.407076\n",
       "(50, 60]   7.575848  5.914373\n",
       "(60, 70]   7.604514  5.933307\n",
       "(70, 80]   6.284968  4.974855"
      ]
     },
     "execution_count": 39,
     "metadata": {},
     "output_type": "execute_result"
    }
   ],
   "source": [
    "#Heteroscedacity of the data on BMI\n",
    "\n",
    "dx = da[['BMXBMI', 'RIDAGEYR', 'RIAGENDRx']].dropna()\n",
    "da['agegrp'] = pd.cut(dx.RIDAGEYR, [18, 30, 40, 50, 60, 70, 80])\n",
    "da.groupby(['agegrp' ,'RIAGENDRx'])['BMXBMI'].agg(np.std).unstack()"
   ]
  },
  {
   "cell_type": "code",
   "execution_count": 44,
   "id": "3c561ad9",
   "metadata": {},
   "outputs": [
    {
     "name": "stdout",
     "output_type": "stream",
     "text": [
      "(18, 30]\n",
      "Pooled:  (1.702693293364314, 0.08862548061450115)\n",
      "Equal:  (1.702693293364314, 0.08862548061450115)\n",
      "\n",
      "(30, 40]\n",
      "Pooled:  (1.4378280405644988, 0.15048285114647975)\n",
      "Equal:  (1.4378280405644988, 0.15048285114647975)\n",
      "\n",
      "(40, 50]\n",
      "Pooled:  (2.8933761158070186, 0.003811246059501354)\n",
      "Equal:  (2.8933761158070186, 0.003811246059501354)\n",
      "\n",
      "(50, 60]\n",
      "Pooled:  (3.3621087799813747, 0.0007734964571391533)\n",
      "Equal:  (3.3621087799813747, 0.0007734964571391533)\n",
      "\n",
      "(60, 70]\n",
      "Pooled:  (3.6172401442432602, 0.0002977610210319532)\n",
      "Equal:  (3.6172401442432602, 0.0002977610210319532)\n",
      "\n",
      "(70, 80]\n",
      "Pooled:  (2.926729252512241, 0.003425469414486057)\n",
      "Equal:  (2.926729252512241, 0.003425469414486057)\n",
      "\n"
     ]
    }
   ],
   "source": [
    "#Pooled and unequal aproach of variance estimation, difference between them show level of \n",
    "#variance and therefore heteroscedacity\n",
    "\n",
    "for k, v in da.groupby('agegrp'):\n",
    "    bmi_female = v.loc[v.RIAGENDRx == 'Female', 'BMXBMI'].dropna()\n",
    "    bmi_female = sm.stats.DescrStatsW(bmi_female)\n",
    "    bmi_male = v.loc[v.RIAGENDRx == 'Male', 'BMXBMI'].dropna()\n",
    "    bmi_male = sm.stats.DescrStatsW(bmi_male)\n",
    "    print(k)\n",
    "    print(\"Pooled: \", sm.stats.CompareMeans(bmi_female, bmi_male).ztest_ind(usevar = 'pooled'))\n",
    "    print(\"Equal: \", sm.stats.CompareMeans(bmi_female, bmi_male).ztest_ind(usevar = 'pooled'))\n",
    "    print()"
   ]
  },
  {
   "cell_type": "code",
   "execution_count": null,
   "id": "7bdd735b",
   "metadata": {},
   "outputs": [],
   "source": []
  }
 ],
 "metadata": {
  "kernelspec": {
   "display_name": "Python 3 (ipykernel)",
   "language": "python",
   "name": "python3"
  },
  "language_info": {
   "codemirror_mode": {
    "name": "ipython",
    "version": 3
   },
   "file_extension": ".py",
   "mimetype": "text/x-python",
   "name": "python",
   "nbconvert_exporter": "python",
   "pygments_lexer": "ipython3",
   "version": "3.9.7"
  }
 },
 "nbformat": 4,
 "nbformat_minor": 5
}
